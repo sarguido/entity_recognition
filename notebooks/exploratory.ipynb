{
 "cells": [
  {
   "cell_type": "code",
   "execution_count": 1,
   "metadata": {
    "pycharm": {
     "name": "#%%\n"
    }
   },
   "outputs": [],
   "source": [
    "import pandas as pd\n",
    "from utils import data_process\n",
    "import seaborn as sns\n",
    "\n",
    "%matplotlib inline\n",
    "sns.set()"
   ]
  },
  {
   "cell_type": "markdown",
   "metadata": {},
   "source": [
    "Let's take a look at the data:"
   ]
  },
  {
   "cell_type": "code",
   "execution_count": 2,
   "metadata": {
    "pycharm": {
     "name": "#%%\n"
    }
   },
   "outputs": [
    {
     "name": "stdout",
     "output_type": "stream",
     "text": [
      "[['B-PER', 'I-PER'], ['B-LOC', 'O'], ['O', 'B-ORG', 'I-ORG', 'O', 'O', 'O', 'O', 'O', 'O', 'B-MISC', 'O', 'O', 'O', 'O', 'O', 'B-MISC', 'O', 'O', 'O', 'O', 'O', 'O', 'O', 'O', 'O', 'O', 'O', 'O', 'O', 'O'], ['B-LOC', 'O', 'O', 'O', 'O', 'B-ORG', 'I-ORG', 'O', 'O', 'O', 'B-PER', 'I-PER', 'O', 'O', 'O', 'O', 'O', 'O', 'O', 'O', 'O', 'O', 'O', 'B-LOC', 'O', 'O', 'O', 'O', 'O', 'O', 'O'], ['O', 'O', 'O', 'O', 'O', 'O', 'O', 'O', 'O', 'O', 'O', 'O', 'O', 'O', 'O', 'O', 'O', 'O', 'O', 'O', 'B-ORG', 'O', 'O', 'O', 'B-PER', 'I-PER', 'I-PER', 'I-PER', 'O', 'O', 'O', 'O', 'O']]\n",
      "[['Peter', 'Blackburn'], ['BRUSSELS', '1996-08-22'], ['The', 'European', 'Commission', 'said', 'on', 'Thursday', 'it', 'disagreed', 'with', 'German', 'advice', 'to', 'consumers', 'to', 'shun', 'British', 'lamb', 'until', 'scientists', 'determine', 'whether', 'mad', 'cow', 'disease', 'can', 'be', 'transmitted', 'to', 'sheep', '.'], ['Germany', \"'s\", 'representative', 'to', 'the', 'European', 'Union', \"'s\", 'veterinary', 'committee', 'Werner', 'Zwingmann', 'said', 'on', 'Wednesday', 'consumers', 'should', 'buy', 'sheepmeat', 'from', 'countries', 'other', 'than', 'Britain', 'until', 'the', 'scientific', 'advice', 'was', 'clearer', '.'], ['\"', 'We', 'do', \"n't\", 'support', 'any', 'such', 'recommendation', 'because', 'we', 'do', \"n't\", 'see', 'any', 'grounds', 'for', 'it', ',', '\"', 'the', 'Commission', \"'s\", 'chief', 'spokesman', 'Nikolaus', 'van', 'der', 'Pas', 'told', 'a', 'news', 'briefing', '.']]\n"
     ]
    }
   ],
   "source": [
    "train_tokens, train_tags = data_process.parse_file(\"/Users/sarah/PycharmProjects/entity_recognition/data/CONLL2003/train.txt\")\n",
    "print(train_tags[:5])\n",
    "print(train_tokens[:5])"
   ]
  },
  {
   "cell_type": "markdown",
   "metadata": {},
   "source": [
    "I see lots of O's. Let's look at tag distribution:"
   ]
  },
  {
   "cell_type": "code",
   "execution_count": 3,
   "metadata": {
    "pycharm": {
     "name": "#%%\n"
    }
   },
   "outputs": [],
   "source": [
    "flattened_tags = data_process.flatten(train_tags)\n",
    "flattened_tokens = data_process.flatten(train_tokens)"
   ]
  },
  {
   "cell_type": "code",
   "execution_count": 4,
   "metadata": {},
   "outputs": [
    {
     "name": "stdout",
     "output_type": "stream",
     "text": [
      "        token    tag\n",
      "0       Peter  B-PER\n",
      "1   Blackburn  I-PER\n",
      "2    BRUSSELS  B-LOC\n",
      "3  1996-08-22      O\n",
      "4         The      O\n",
      "(203608, 2)\n"
     ]
    }
   ],
   "source": [
    "tokens_and_tags = pd.DataFrame(list(zip(flattened_tokens, flattened_tags)), columns=[\"token\", \"tag\"])\n",
    "print(tokens_and_tags.head())\n",
    "print(tokens_and_tags.shape)"
   ]
  },
  {
   "cell_type": "code",
   "execution_count": 5,
   "metadata": {
    "pycharm": {
     "name": "#%%\n"
    }
   },
   "outputs": [
    {
     "data": {
      "text/plain": "<matplotlib.axes._subplots.AxesSubplot at 0x128241dd8>"
     },
     "execution_count": 5,
     "metadata": {},
     "output_type": "execute_result"
    },
    {
     "data": {
      "text/plain": "<Figure size 432x288 with 1 Axes>",
      "image/png": "[encoded data removed]"
     },
     "metadata": {},
     "output_type": "display_data"
    }
   ],
   "source": [
    "tags_dist = pd.Series(flattened_tags)\n",
    "tags_dist.value_counts().plot(kind='bar')"
   ]
  },
  {
   "cell_type": "markdown",
   "metadata": {},
   "source": [
    "Around 83% of the data is the outside tag 'O'. Something to keep in mind during training. "
   ]
  },
  {
   "cell_type": "code",
   "execution_count": 6,
   "metadata": {},
   "outputs": [
    {
     "data": {
      "text/plain": "O         0.832826\nB-LOC     0.035067\nB-PER     0.032415\nB-ORG     0.031030\nI-PER     0.022239\nI-ORG     0.018192\nB-MISC    0.016876\nI-LOC     0.005682\nI-MISC    0.005673\ndtype: float64"
     },
     "execution_count": 6,
     "metadata": {},
     "output_type": "execute_result"
    }
   ],
   "source": [
    "tags_dist.value_counts().apply(lambda row: row / tokens_and_tags.shape[0])"
   ]
  },
  {
   "cell_type": "markdown",
   "metadata": {},
   "source": [
    "Looking at a histogram of sentence length, most sentences are pretty short."
   ]
  },
  {
   "cell_type": "code",
   "execution_count": 7,
   "metadata": {
    "pycharm": {
     "name": "#%%\n"
    }
   },
   "outputs": [
    {
     "data": {
      "text/plain": "<matplotlib.axes._subplots.AxesSubplot at 0x12ab409b0>"
     },
     "execution_count": 7,
     "metadata": {},
     "output_type": "execute_result"
    },
    {
     "data": {
      "text/plain": "<Figure size 432x288 with 1 Axes>",
      "image/png": "[encoded data removed]"
     },
     "metadata": {},
     "output_type": "display_data"
    }
   ],
   "source": [
    "sentence_lengths = [len(s) for s in train_tokens]\n",
    "sentence_length_dist = pd.Series(sentence_lengths)\n",
    "sns.distplot(sentence_length_dist, bins=20, kde=False)\n"
   ]
  },
  {
   "cell_type": "markdown",
   "metadata": {},
   "source": [
    "Let's look at the tags a bit, starting with location since the \"client\" is a travel data broker."
   ]
  },
  {
   "cell_type": "code",
   "execution_count": 8,
   "metadata": {
    "pycharm": {
     "name": "#%%\n"
    }
   },
   "outputs": [
    {
     "name": "stdout",
     "output_type": "stream",
     "text": [
      "U.S.         309\n",
      "Germany      142\n",
      "Britain      133\n",
      "Australia    130\n",
      "England      124\n",
      "France       122\n",
      "Spain        110\n",
      "Italy         98\n",
      "New           95\n",
      "LONDON        93\n",
      "Name: token, dtype: int64\n"
     ]
    }
   ],
   "source": [
    "# investigate tags\n",
    "location_tokens = tokens_and_tags[tokens_and_tags[\"tag\"].isin([\"B-LOC\", \"I-LOC\"])]\n",
    "print(location_tokens[\"token\"].value_counts().head(10))"
   ]
  },
  {
   "cell_type": "code",
   "execution_count": 9,
   "metadata": {
    "pycharm": {
     "name": "#%%\n"
    }
   },
   "outputs": [
    {
     "name": "stdout",
     "output_type": "stream",
     "text": [
      "of          104\n",
      "Reuters      79\n",
      "Newsroom     70\n",
      "Inc          61\n",
      "St           52\n",
      "Corp         49\n",
      "Party        49\n",
      "New          49\n",
      "United       48\n",
      "National     48\n",
      "Name: token, dtype: int64\n"
     ]
    }
   ],
   "source": [
    "# investigate tags\n",
    "# 'of' is clearly an inner token\n",
    "org_tokens = tokens_and_tags[tokens_and_tags[\"tag\"].isin([\"B-ORG\", \"I-ORG\"])]\n",
    "print(org_tokens[\"token\"].value_counts().head(10))"
   ]
  },
  {
   "cell_type": "markdown",
   "metadata": {
    "pycharm": {
     "name": "#%%\n"
    }
   },
   "source": [
    "What about those inner tags?\n"
   ]
  },
  {
   "cell_type": "code",
   "execution_count": 10,
   "metadata": {
    "pycharm": {
     "name": "#%%\n"
    }
   },
   "outputs": [
    {
     "name": "stdout",
     "output_type": "stream",
     "text": [
      "of          134\n",
      "YORK         95\n",
      "Cup          80\n",
      "Newsroom     70\n",
      "York         67\n",
      "Bank         62\n",
      "Open         60\n",
      "States       60\n",
      "Inc          60\n",
      "Africa       59\n",
      "Name: token, dtype: int64\n"
     ]
    }
   ],
   "source": [
    "# inner tags\n",
    "inner_tokens = tokens_and_tags[tokens_and_tags[\"tag\"].str.startswith(\"I\")]\n",
    "print(inner_tokens[\"token\"].value_counts().head(10))"
   ]
  },
  {
   "cell_type": "markdown",
   "metadata": {},
   "source": [
    "I'm not spending too much time here because named entity recognition using IOB has a pretty standard solution: bi-directional LSTM. Onward!"
   ]
  },
  {
   "cell_type": "code",
   "execution_count": 10,
   "metadata": {},
   "outputs": [],
   "source": []
  }
 ],
 "metadata": {
  "kernelspec": {
   "display_name": "Python 3",
   "language": "python",
   "name": "python3"
  },
  "language_info": {
   "codemirror_mode": {
    "name": "ipython",
    "version": 3
   },
   "file_extension": ".py",
   "mimetype": "text/x-python",
   "name": "python",
   "nbconvert_exporter": "python",
   "pygments_lexer": "ipython3",
   "version": "3.7.3"
  }
 },
 "nbformat": 4,
 "nbformat_minor": 1
}